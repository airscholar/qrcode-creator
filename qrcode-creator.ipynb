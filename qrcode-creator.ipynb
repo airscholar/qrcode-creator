{
 "cells": [
  {
   "cell_type": "code",
   "execution_count": 23,
   "metadata": {},
   "outputs": [
    {
     "name": "stdout",
     "output_type": "stream",
     "text": [
      "Requirement already satisfied: qrcode[pil] in /Users/airscholar/miniconda3/envs/Cloud/lib/python3.10/site-packages (7.4.2)\n",
      "Requirement already satisfied: typing-extensions in /Users/airscholar/miniconda3/envs/Cloud/lib/python3.10/site-packages (from qrcode[pil]) (4.7.1)\n",
      "Requirement already satisfied: pypng in /Users/airscholar/miniconda3/envs/Cloud/lib/python3.10/site-packages (from qrcode[pil]) (0.20220715.0)\n",
      "Requirement already satisfied: pillow>=9.1.0 in /Users/airscholar/miniconda3/envs/Cloud/lib/python3.10/site-packages (from qrcode[pil]) (10.0.0)\n"
     ]
    }
   ],
   "source": [
    "!pip install \"qrcode[pil]\""
   ]
  },
  {
   "cell_type": "markdown",
   "metadata": {},
   "source": [
    "### PLAIN QR CODE"
   ]
  },
  {
   "cell_type": "code",
   "execution_count": 24,
   "metadata": {},
   "outputs": [],
   "source": [
    "import qrcode\n",
    "from PIL import Image\n",
    "\n",
    "qr = qrcode.QRCode(version=1, box_size=10, border=2)\n",
    "qr.add_data(\"https://www.youtube.com/@CodeWithYu\")\n",
    "qr.make(fit=True)\n",
    "img = qr.make_image(fill='black', back_color='white')\n",
    "img.save(\"qrcode.png \")"
   ]
  },
  {
   "cell_type": "markdown",
   "metadata": {},
   "source": [
    "### QR CODE WITH LOGO"
   ]
  },
  {
   "cell_type": "code",
   "execution_count": 37,
   "metadata": {},
   "outputs": [],
   "source": [
    "import qrcode\n",
    "from PIL import Image\n",
    "\n",
    "qr = qrcode.QRCode(version=1, box_size=10, border=4)\n",
    "qr.add_data(\"https://www.youtube.com/@CodeWithYu\")\n",
    "qr_img = qr.make_image(fill_color='red', back_color='white')\n",
    "\n",
    "#add logo\n",
    "logo = Image.open(\"./youtube_logo.png\").resize((75,75), Image.LANCZOS)\n",
    "offset = ((qr_img.size[0] - 75) // 2, (qr_img.size[1] - 75) // 2)\n",
    "\n",
    "qr_img.paste(logo, offset, mask=logo.split()[3] if logo.mode == 'RGBA' else None)\n",
    "qr_img.save(\"qr_with_logo.png\")"
   ]
  },
  {
   "cell_type": "markdown",
   "metadata": {},
   "source": [
    "### QR CODE WITH BACKGROUND"
   ]
  },
  {
   "cell_type": "code",
   "execution_count": 40,
   "metadata": {},
   "outputs": [],
   "source": [
    "import qrcode\n",
    "from PIL import Image\n",
    "from qrcode.image.styledpil import StyledPilImage\n",
    "from qrcode.image.styles.colormasks import ImageColorMask\n",
    "\n",
    "qr = qrcode.QRCode(version=1, box_size=10, border=4)\n",
    "qr.add_data(\"https://www.youtube.com/@CodeWithYu\")\n",
    "#image background\n",
    "bg = Image.open('./pic_no_bg.png')\n",
    "qr_img = qr.make_image(image_factory=StyledPilImage, color_mask=ImageColorMask(back_color=(255,255,255), \n",
    "color_mask_image=bg))\n",
    "qr_img.save('qrcode_with_bg.png')\n",
    "\n"
   ]
  }
 ],
 "metadata": {
  "kernelspec": {
   "display_name": "Cloud",
   "language": "python",
   "name": "python3"
  },
  "language_info": {
   "codemirror_mode": {
    "name": "ipython",
    "version": 3
   },
   "file_extension": ".py",
   "mimetype": "text/x-python",
   "name": "python",
   "nbconvert_exporter": "python",
   "pygments_lexer": "ipython3",
   "version": "3.10.8"
  },
  "orig_nbformat": 4
 },
 "nbformat": 4,
 "nbformat_minor": 2
}
